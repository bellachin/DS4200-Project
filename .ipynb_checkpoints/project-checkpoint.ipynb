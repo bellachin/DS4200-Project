{
 "cells": [
  {
   "cell_type": "markdown",
   "metadata": {},
   "source": [
    "### DS 4200 Project"
   ]
  },
  {
   "cell_type": "code",
   "execution_count": null,
   "metadata": {},
   "outputs": [
    {
     "ename": "",
     "evalue": "",
     "output_type": "error",
     "traceback": [
      "\u001b[1;31mRunning cells with 'Python 3.13.1' requires the ipykernel package.\n",
      "\u001b[1;31mRun the following command to install 'ipykernel' into the Python environment. \n",
      "\u001b[1;31mCommand: '/opt/homebrew/bin/python3 -m pip install ipykernel -U --user --force-reinstall'"
     ]
    }
   ],
   "source": [
    "import pandas as pd\n",
    "import altair as alt\n",
    "df = pd.read_csv(\"car_price_dataset.csv\")\n",
    "df.head()"
   ]
  },
  {
   "cell_type": "code",
   "execution_count": null,
   "metadata": {},
   "outputs": [],
   "source": [
    "print(\"Features:\", df.columns.tolist())\n",
    "alt.data_transformers.disable_max_rows()"
   ]
  },
  {
   "cell_type": "markdown",
   "metadata": {},
   "source": [
    "1. Treemap for brand to see popularity and most popular model within each brand.\n",
    "2. Highest brand and model by price\n",
    "3. Fuel type can yse side by side box plot\n",
    "4. 5 differernt visulaization\n",
    "5. no more than 8 collor"
   ]
  },
  {
   "cell_type": "code",
   "execution_count": null,
   "metadata": {},
   "outputs": [],
   "source": [
    "alt.Chart(df).mark_bar().encode(\n",
    "    alt.X('Price', bin=True, title='Car Price'),\n",
    "    alt.Y('count()', title='Frequency')\n",
    ").properties(\n",
    "    title='Car Price Distribution'\n",
    ")"
   ]
  },
  {
   "cell_type": "code",
   "execution_count": null,
   "metadata": {},
   "outputs": [],
   "source": [
    "import altair as alt\n",
    "import pandas as pd\n",
    "\n",
    "df = pd.read_csv('car_price_dataset.csv')\n",
    "\n",
    "alt.data_transformers.disable_max_rows()\n",
    "\n",
    "min_year = int(df['Year'].min())\n",
    "max_year = int(df['Year'].max())\n",
    "\n",
    "brand_options = ['All'] + sorted(df['Brand'].unique().tolist())\n",
    "\n",
    "brand_param = alt.param(\n",
    "    bind=alt.binding_select(options=brand_options, name='Select Brand:'),\n",
    "    value='All'\n",
    ")\n",
    "\n",
    "\n",
    "price_param = alt.param(\n",
    "    name='PriceSlider',\n",
    "    bind=alt.binding_range(\n",
    "        min=int(df['Price'].min()),\n",
    "        max=int(df['Price'].max()),\n",
    "        step=1000,\n",
    "        name='Max Price:'  # <-- this controls the UI label\n",
    "    ),\n",
    "    value=int(df['Price'].max())\n",
    ")\n",
    "\n",
    "\n",
    "scatter = alt.Chart(df).mark_circle(size=60).encode(\n",
    "    x=alt.X('Year:Q', title='Year', scale=alt.Scale(domain=[min_year, max_year])),\n",
    "    y=alt.Y('Price:Q', title='Price'),\n",
    "    color=alt.Color('Brand:N', legend=alt.Legend(title='Brand')),\n",
    "    tooltip=['Brand', 'Model', 'Year', 'Price', 'Mileage']\n",
    ").transform_filter(\n",
    "    (alt.datum.Price <= price_param) & \n",
    "    ((alt.datum.Brand == brand_param) | (brand_param == 'All'))  # Filter logic for \"All\"\n",
    ").add_params(\n",
    "    brand_param,\n",
    "    price_param\n",
    ").properties(\n",
    "    title='Car Prices vs Year with Brand & Price Filters (Includes \"All\" Option)',\n",
    "    width=800,\n",
    "    height=600\n",
    ").interactive()\n",
    "\n",
    "scatter\n",
    "\n",
    "scatter.save('carpriceyear.json')"
   ]
  },
  {
   "cell_type": "code",
   "execution_count": null,
   "metadata": {},
   "outputs": [],
   "source": [
    "alt.Chart(df).mark_bar().encode(\n",
    "    x=alt.X('mean(Price)', title='Average Price'),\n",
    "    y=alt.Y('Brand:N', sort='-x'),\n",
    "    color='Brand:N'\n",
    ").properties(\n",
    "    title='Average Car Price by Brand'\n",
    ")"
   ]
  },
  {
   "cell_type": "code",
   "execution_count": null,
   "metadata": {},
   "outputs": [],
   "source": [
    "box_plot = alt.Chart(df).mark_boxplot(extent='min-max').encode(\n",
    "    x=alt.X('Fuel_Type:N', title='Fuel Type'),\n",
    "    y=alt.Y('Price:Q', title='Price'),\n",
    "    color=alt.Color('Fuel_Type:N', legend=alt.Legend(title='Fuel Type')),\n",
    "    tooltip=['Fuel_Type', 'Price']\n",
    ").properties(\n",
    "    title='Box Plot of Price by Fuel Type',\n",
    "    width=600,\n",
    "    height=400\n",
    ").interactive()\n",
    "\n",
    "box_plot"
   ]
  },
  {
   "cell_type": "code",
   "execution_count": null,
   "metadata": {},
   "outputs": [],
   "source": [
    "import plotly.express as px\n",
    "import pandas as pd\n",
    "\n",
    "# Load your dataset\n",
    "df = pd.read_csv('car_price_dataset.csv')\n",
    "\n",
    "brand_model_counts = df.groupby(['Brand', 'Model']).size().reset_index(name='Count')\n",
    "\n",
    "fig = px.treemap(\n",
    "    brand_model_counts,\n",
    "    path=['Brand', 'Model'],\n",
    "    values='Count',\n",
    "    color='Count',\n",
    "    color_continuous_scale='Blues',\n",
    "    title='Treemap of Car Counts by Brand and Model'\n",
    ")\n",
    "\n",
    "fig.show()"
   ]
  }
 ],
 "metadata": {
  "kernelspec": {
   "display_name": "Python 3",
   "language": "python",
   "name": "python3"
  },
  "language_info": {
   "codemirror_mode": {
    "name": "ipython",
    "version": 3
   },
   "file_extension": ".py",
   "mimetype": "text/x-python",
   "name": "python",
   "nbconvert_exporter": "python",
   "pygments_lexer": "ipython3",
   "version": "3.13.1"
  }
 },
 "nbformat": 4,
 "nbformat_minor": 2
}
